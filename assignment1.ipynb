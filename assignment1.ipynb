{
 "cells": [
  {
   "cell_type": "markdown",
   "id": "4bbf6c52",
   "metadata": {
    "pycharm": {
     "name": "#%% md\n"
    }
   },
   "source": [
    "# COMP5328 - Advanced Machine Learning\n",
    "## Assignment 1: Non-negative Matrix Factorization\n"
   ]
  },
  {
   "cell_type": "markdown",
   "id": "ebdaf49e",
   "metadata": {
    "pycharm": {
     "name": "#%% md\n"
    }
   },
   "source": [
    "(Semester 2, 2023)\n",
    "\n",
    "In this ipython notebook, we provide some example code for loading data and evaluation for assignment1.\n",
    "\n",
    "Load Data.\n",
    "- ORL dataset.\n",
    "- Extended YaleB dataset.\n",
    "\n",
    "Perform Evaluation.\n",
    "- Root Means Square Errors (RMSE).\n",
    "- Accuracy, NMI.\n",
    "\n",
    "Lecturers: Dr. Imdad Ullah\n",
    "\n",
    "Tutors: Jaime Ruiz Serra, Yuchen Shen, Daniel Friedrich, Rafiul Nakib, Siyu Xu, Yongpei (Michael) Ma\n",
    "\n",
    "Note: All datasets can be used only for this assignment and you are not allowed to distribute these datasets. If you want to use AR dataset, you need to apply it by yourself (we do not provide AR dataset due to the problem of license, please find more details in http://www2.ece.ohio-state.edu/~aleix/ARdatabase.html)."
   ]
  },
  {
   "cell_type": "markdown",
   "id": "86453029",
   "metadata": {
    "pycharm": {
     "name": "#%% md\n"
    }
   },
   "source": [
    "### 1. Load Dataset"
   ]
  },
  {
   "cell_type": "markdown",
   "id": "79838e9d",
   "metadata": {
    "pycharm": {
     "name": "#%% md\n"
    }
   },
   "source": [
    "#### 1.1 Load ORL Dataset and Extended YaleB Dataset.\n",
    "- ORL dataset contains ten different images of each of 40 distinct subjects. For some subjects, the images were taken at different times, varying the lighting, facial expressions (open / closed eyes, smiling / not smiling) and facial details (glasses / no glasses). All the images were taken against a dark homogeneous background with the subjects in an upright, frontal position (with tolerance for some side movement). The size of each image is 92x112 pixels, with 256 grey levels per pixel. To further reduce the computation complexity, you can resize all images to 30x37 pixels.\n",
    "\n",
    "- Extended YaleB dataset contains 2414 images of 38 human subjects under 9 poses and 64 illumination conditions. All images are manually aligned, cropped, and then resized to 168x192 pixels. To further reduce the computation complexity, you can resize all images to 42x48 pixels."
   ]
  },
  {
   "cell_type": "code",
   "execution_count": 1,
   "id": "6fbfe6a1",
   "metadata": {
    "pycharm": {
     "name": "#%%\n"
    }
   },
   "outputs": [],
   "source": [
    "import os\n",
    "import random\n",
    "\n",
    "import numpy as np\n",
    "from PIL import Image\n",
    "from numpy import sqrt\n",
    "\n",
    "def load_data(root='data/CroppedYaleB', reduce=4):\n",
    "    \"\"\" \n",
    "    Load ORL (or Extended YaleB) dataset to numpy array.\n",
    "    \n",
    "    Args:\n",
    "        root: path to dataset.\n",
    "        reduce: scale factor for zooming out images.\n",
    "        \n",
    "    \"\"\" \n",
    "    images, labels = [], []\n",
    "\n",
    "    for i, person in enumerate(sorted(os.listdir(root))):\n",
    "        \n",
    "        if not os.path.isdir(os.path.join(root, person)):\n",
    "            continue\n",
    "        \n",
    "        for fname in os.listdir(os.path.join(root, person)):    \n",
    "            \n",
    "            # Remove background images in Extended YaleB dataset.\n",
    "            if fname.endswith('Ambient.pgm'):\n",
    "                continue\n",
    "            \n",
    "            if not fname.endswith('.pgm'):\n",
    "                continue\n",
    "                \n",
    "            # load image.\n",
    "            img = Image.open(os.path.join(root, person, fname))\n",
    "            img = img.convert('L') # grey image.\n",
    "\n",
    "            # reduce computation complexity.\n",
    "            img = img.resize([s//reduce for s in img.size])\n",
    "\n",
    "            # TODO: preprocessing.\n",
    "\n",
    "            # convert image to numpy array.\n",
    "            img = np.asarray(img).reshape((-1,1))\n",
    "\n",
    "            # collect data and label.\n",
    "            images.append(img)\n",
    "            labels.append(i)\n",
    "\n",
    "    # concate all images and labels.\n",
    "    images = np.concatenate(images, axis=1)\n",
    "    labels = np.array(labels)\n",
    "\n",
    "    return images, labels"
   ]
  },
  {
   "cell_type": "code",
   "execution_count": 2,
   "id": "b8deccc6",
   "metadata": {
    "pycharm": {
     "name": "#%%\n"
    }
   },
   "outputs": [
    {
     "name": "stdout",
     "output_type": "stream",
     "text": [
      "ORL dataset: X_hat.shape = (2576, 400), Y_hat.shape = (400,)\n",
      "Extended YalB dataset: X_hat.shape = (2016, 2414), Y_hat.shape = (2414,)\n"
     ]
    }
   ],
   "source": [
    "# Load ORL dataset.\n",
    "X_hat, Y_hat = load_data(root='data/ORL', reduce=2)\n",
    "print('ORL dataset: X_hat.shape = {}, Y_hat.shape = {}'.format(X_hat.shape, Y_hat.shape))\n",
    "\n",
    "# Load Extended YaleB dataset.\n",
    "X_hat, Y_hat = load_data(root='data/CroppedYaleB', reduce=4)\n",
    "print('Extended YalB dataset: X_hat.shape = {}, Y_hat.shape = {}'.format(X_hat.shape, Y_hat.shape))"
   ]
  },
  {
   "cell_type": "markdown",
   "id": "056fa576",
   "metadata": {
    "pycharm": {
     "name": "#%% md\n"
    }
   },
   "source": [
    "#### 1.2 Load AR Dataset (Optional)\n",
    "AR dataset contains 2600 images of 100 individuals (50 male and 50 female). All images have been cropped and resized to 120x165 pixels. To further reduce the computation complexity, you can resize all images to 40x55 pixels."
   ]
  },
  {
   "cell_type": "code",
   "execution_count": 3,
   "id": "6a9ba1ff",
   "metadata": {
    "pycharm": {
     "name": "#%%\n"
    }
   },
   "outputs": [],
   "source": [
    "def load_data_AR(root='data/CroppedAR', reduce=3):\n",
    "    \"\"\" \n",
    "    Load AR dataset to numpy array.\n",
    "    \n",
    "    Args:\n",
    "        root: path to AR dataset.\n",
    "        reduce: scale factor for zooming out images.\n",
    "        \n",
    "    \"\"\" \n",
    "    images, labels = [], []\n",
    "    \n",
    "    for fname in os.listdir(root):\n",
    "        \n",
    "        if not fname.endswith('.bmp'):\n",
    "            continue\n",
    "        \n",
    "        # get label.\n",
    "        label = int(fname[2:5])\n",
    "        if fname[0] == 'W': # start from 50\n",
    "            label += 50\n",
    "        \n",
    "        # load image.\n",
    "        img = Image.open(os.path.join(root, fname))\n",
    "        img = img.convert('L') # grey\n",
    "        \n",
    "        # reduce computation complexity.\n",
    "        img = img.resize([s//reduce for s in img.size])\n",
    "   \n",
    "        # TODO: preprocessing.\n",
    "        \n",
    "        # convert image to numpy array.\n",
    "        img = np.asarray(img).reshape((-1,1))\n",
    "        \n",
    "        # collect data and label.\n",
    "        images.append(img)\n",
    "        labels.append(label)\n",
    "        \n",
    "    # concate all images and labels.\n",
    "    images = np.concatenate(images, axis=1)\n",
    "    labels = np.array(labels)\n",
    "    \n",
    "    return images, labels"
   ]
  },
  {
   "cell_type": "markdown",
   "id": "5486ba0f",
   "metadata": {
    "pycharm": {
     "name": "#%% md\n"
    }
   },
   "source": [
    "### 2. Evaluation Metrics\n",
    "#### 2.1 Root Means Square Errors (RMSE)\n",
    "To compare the robustness of different NMF algorithms, you can use the Root Means Square Errors. Let $X$ denote the contaminated dataset (by adding noise), and  $\\hat X$  denote the clean dataset. Let  $R$ and  $D$ denote the factorization results on $𝑉$, Root Means Square Errors then can be defined as follows:\n",
    "$RMSE= ||\\hat X - RD||_F$"
   ]
  },
  {
   "cell_type": "code",
   "execution_count": 4,
   "outputs": [
    {
     "name": "stdout",
     "output_type": "stream",
     "text": [
      "[[  0.   0.   0.   0.   0.   0.   0.   0.   0.   0.   0.   0.]\n",
      " [  0.   0.   0.   0.   0. 255. 255. 255.   0.   0.   0.   0.]\n",
      " [  0.   0.   0.   0.   0. 255. 255. 255.   0.   0.   0.   0.]\n",
      " [  0.   0.   0.   0.   0. 255. 255. 255.   0.   0.   0.   0.]\n",
      " [  0.   0.   0.   0.   0.   0.   0.   0.   0.   0.   0.   0.]\n",
      " [  0.   0.   0.   0.   0.   0.   0.   0.   0.   0.   0.   0.]\n",
      " [  0.   0.   0.   0.   0.   0.   0.   0.   0.   0.   0.   0.]\n",
      " [  0.   0.   0.   0.   0.   0.   0.   0.   0.   0.   0.   0.]\n",
      " [  0.   0.   0.   0.   0.   0.   0.   0.   0.   0.   0.   0.]\n",
      " [  0.   0.   0.   0.   0.   0.   0.   0.   0.   0.   0.   0.]]\n"
     ]
    }
   ],
   "source": [
    "background = np.zeros((10,12))\n",
    "X_noise = np.full((3,3),255)\n",
    "\n",
    "r = random.randint(0,5)\n",
    "c = random.randint(0,5)\n",
    "background[r:r+X_noise.shape[0],c:c+X_noise.shape[1]] += X_noise\n",
    "print(background)"
   ],
   "metadata": {
    "collapsed": false,
    "pycharm": {
     "name": "#%%\n"
    }
   }
  },
  {
   "cell_type": "code",
   "execution_count": 5,
   "outputs": [
    {
     "name": "stdout",
     "output_type": "stream",
     "text": [
      "[0.94763412 0.76587214 0.55674137 0.58011462 0.82249206 0.38983972\n",
      " 0.49300623 0.08834935 0.94899499 0.48757462 0.05893309 0.53070528\n",
      " 0.63083855 0.10024916 0.54264259 0.72227035 0.90650719 0.84055251\n",
      " 0.10061253 0.91691351 0.12978154 0.13820881 0.0076227  0.91895219\n",
      " 0.45996899 0.09211389 0.05889362 0.28168355 0.27719501 0.91951518\n",
      " 0.50681557 0.74961344 0.92038508 0.33911423 0.34944062 0.15583385\n",
      " 0.93442279 0.0776323  0.59878551 0.21177849 0.61842053 0.727897\n",
      " 0.33945281 0.86840172]\n",
      "[[0.94763412 0.76587214 0.55674137 0.58011462]\n",
      " [0.82249206 0.38983972 0.49300623 0.08834935]\n",
      " [0.94899499 0.48757462 0.05893309 0.53070528]\n",
      " [0.63083855 0.10024916 0.54264259 0.72227035]\n",
      " [0.90650719 0.84055251 0.10061253 0.91691351]\n",
      " [0.12978154 0.13820881 0.0076227  0.91895219]\n",
      " [0.45996899 0.09211389 0.05889362 0.28168355]\n",
      " [0.27719501 0.91951518 0.50681557 0.74961344]\n",
      " [0.92038508 0.33911423 0.34944062 0.15583385]\n",
      " [0.93442279 0.0776323  0.59878551 0.21177849]\n",
      " [0.61842053 0.727897   0.33945281 0.86840172]]\n",
      "[0.58011462 0.08834935 0.53070528 0.72227035 0.91691351 0.91895219\n",
      " 0.28168355 0.74961344 0.15583385 0.21177849 0.86840172]\n",
      "\n",
      "[0.94763412 0.82249206 0.94899499 0.63083855 0.90650719 0.12978154\n",
      " 0.45996899 0.27719501 0.92038508 0.93442279 0.61842053]\n",
      "[0.76587214 0.38983972 0.48757462 0.10024916 0.84055251 0.13820881\n",
      " 0.09211389 0.91951518 0.33911423 0.0776323  0.727897  ]\n",
      "[0.55674137 0.49300623 0.05893309 0.54264259 0.10061253 0.0076227\n",
      " 0.05889362 0.50681557 0.34944062 0.59878551 0.33945281]\n",
      "[0.58011462 0.08834935 0.53070528 0.72227035 0.91691351 0.91895219\n",
      " 0.28168355 0.74961344 0.15583385 0.21177849 0.86840172]\n",
      "(4, 11)\n"
     ]
    }
   ],
   "source": [
    "a = np.random.random((44))\n",
    "print(a)\n",
    "a = a.reshape((11,4))\n",
    "print(a)\n",
    "print(a[:,3])\n",
    "print()\n",
    "x = []\n",
    "for i in a.T:\n",
    "    print(i)\n",
    "    x.append(i)\n",
    "x = np.array(x)\n",
    "print(x.shape)"
   ],
   "metadata": {
    "collapsed": false,
    "pycharm": {
     "name": "#%%\n"
    }
   }
  },
  {
   "cell_type": "code",
   "execution_count": 13,
   "outputs": [],
   "source": [
    "def generate_block_occlusion_noise(b, X_hat):\n",
    "    X_hat_noise = []\n",
    "\n",
    "    for image in X_hat.T:\n",
    "        image = image.reshape((37,30))\n",
    "\n",
    "        r = random.randint(0,image.shape[0]-b)\n",
    "        c = random.randint(0,image.shape[1]-b)\n",
    "        image[r:r+b,c:c+b] = 255\n",
    "        image = image.reshape((1110))\n",
    "        X_hat_noise.append(image)\n",
    "\n",
    "    X_hat_noise = np.array(X_hat_noise)\n",
    "\n",
    "\n",
    "\n",
    "    return X_hat_noise.T\n"
   ],
   "metadata": {
    "collapsed": false,
    "pycharm": {
     "name": "#%%\n"
    }
   }
  },
  {
   "cell_type": "code",
   "execution_count": 14,
   "outputs": [],
   "source": [
    "X_hat, Y_hat = load_data('data/ORL', reduce=3)\n",
    "X_hat_noise = generate_block_occlusion_noise(10, X_hat)"
   ],
   "metadata": {
    "collapsed": false,
    "pycharm": {
     "name": "#%%\n"
    }
   }
  },
  {
   "cell_type": "code",
   "execution_count": 15,
   "id": "b15ed493",
   "metadata": {
    "pycharm": {
     "name": "#%%\n"
    }
   },
   "outputs": [
    {
     "name": "stdout",
     "output_type": "stream",
     "text": [
      "==> Load ORL dataset ...\n",
      "X_hat.shape=(1110, 400), Y_hat.shape=(400,)\n"
     ]
    },
    {
     "data": {
      "text/plain": "<Figure size 1000x300 with 4 Axes>",
      "image/png": "[encoded data removed]"
     },
     "metadata": {},
     "output_type": "display_data"
    },
    {
     "name": "stdout",
     "output_type": "stream",
     "text": [
      "\n",
      "==> Apply NMF ...\n",
      "D.shape=(1110, 40), R.shape=(40, 400)\n",
      "==> Evaluate RMSE ...\n",
      "RMSE = 37.095417243499014\n"
     ]
    }
   ],
   "source": [
    "# Load dataset.\n",
    "print('==> Load ORL dataset ...')\n",
    "X_hat, Y_hat = load_data('data/ORL', reduce=3)\n",
    "print('X_hat.shape={}, Y_hat.shape={}'.format(X_hat.shape, Y_hat.shape))\n",
    "\n",
    "# Add Noise.\n",
    "X_noise = np.random.rand(*X_hat.shape) * 40\n",
    "X = X_hat + X_noise\n",
    "\n",
    "\n",
    "# Plot result.\n",
    "import matplotlib.pyplot as plt\n",
    "img_size = [i//3 for i in (92, 112)] # ORL\n",
    "ind = 2 # index of demo image.\n",
    "plt.figure(figsize=(10,3))\n",
    "plt.subplot(141)\n",
    "plt.imshow(X_hat[:,ind].reshape(img_size[1],img_size[0]), cmap=plt.cm.gray)\n",
    "plt.title('Image(Original)')\n",
    "plt.subplot(142)\n",
    "plt.imshow(X_noise[:,ind].reshape(img_size[1],img_size[0]), cmap=plt.cm.gray)\n",
    "plt.title('Noise')\n",
    "plt.subplot(143)\n",
    "plt.imshow(X[:,ind].reshape(img_size[1],img_size[0]), cmap=plt.cm.gray)\n",
    "plt.title('Image(Noise)')\n",
    "plt.subplot(144)\n",
    "plt.imshow(X_hat_noise[:,ind].reshape(img_size[1],img_size[0]), cmap=plt.cm.gray)\n",
    "plt.title('Image(Block Noise)')\n",
    "\n",
    "plt.show()\n",
    "print()\n",
    "\n",
    "# TODO: you should implement NMF algorithms by yourself.\n",
    "print('==> Apply NMF ...')\n",
    "from sklearn.decomposition import NMF\n",
    "from sklearn.metrics import mean_squared_error\n",
    "model = NMF(n_components=len(set(Y_hat))) # set n_components to num_classes.\n",
    "D = model.fit_transform(X)\n",
    "R = model.components_\n",
    "print('D.shape={}, R.shape={}'.format(D.shape, R.shape))\n",
    "\n",
    "# Evaluate Root Means Square Errors .\n",
    "print('==> Evaluate RMSE ...')\n",
    "RMSE = sqrt(mean_squared_error(X_hat, D.dot(R)))\n",
    "print('RMSE = {}'.format(RMSE))"
   ]
  },
  {
   "cell_type": "markdown",
   "id": "e3462027",
   "metadata": {
    "pycharm": {
     "name": "#%% md\n"
    }
   },
   "source": [
    "### 2.2 Evaluate Clustering Performance\n",
    "1. Accuracy\n",
    "\n",
    "    $Acc(Y, Y_{pred}) = \\frac{1}{n}\\sum_{i=1}^n 1\\{Y_{pred(i)} == Y(i)\\}$\n",
    "2. Normalized Mutual Information (NMI).\n",
    "\n",
    "    $NMI(Y, Y_{pred}) = \\frac{2*I(Y, Y_{pred})}{H(Y) + H(Y_{pred})}$\n",
    "   \n",
    "  Where $I(.,.)$ is mutual information and  $𝐻(⋅)$ is entropy."
   ]
  },
  {
   "cell_type": "code",
   "execution_count": 5,
   "outputs": [
    {
     "name": "stdout",
     "output_type": "stream",
     "text": [
      "==> Evaluate Acc and NMI ...\n",
      "Acc(NMI) = 0.3575 (0.5299)\n"
     ]
    },
    {
     "name": "stderr",
     "output_type": "stream",
     "text": [
      "D:\\Anaconda\\envs\\assignment2\\lib\\site-packages\\sklearn\\cluster\\_kmeans.py:870: FutureWarning: The default value of `n_init` will change from 10 to 'auto' in 1.4. Set the value of `n_init` explicitly to suppress the warning\n",
      "  warnings.warn(\n"
     ]
    }
   ],
   "source": [
    "from collections import Counter\n",
    "from sklearn.cluster import KMeans\n",
    "from sklearn.metrics import accuracy_score\n",
    "from sklearn.metrics import normalized_mutual_info_score\n",
    "\n",
    "def assign_cluster_label(X, Y):\n",
    "    kmeans = KMeans(n_clusters=len(set(Y))).fit(X)\n",
    "    Y_pred = np.zeros(Y.shape)\n",
    "    for i in set(kmeans.labels_):\n",
    "        ind = kmeans.labels_ == i\n",
    "        Y_pred[ind] = Counter(Y[ind]).most_common(1)[0][0] # assign label.\n",
    "    return Y_pred\n",
    "\n",
    "print('==> Evaluate Acc and NMI ...')\n",
    "\n",
    "# Assign cluster labels.\n",
    "Y_pred = assign_cluster_label(R.T, Y_hat)\n",
    "\n",
    "acc = accuracy_score(Y_hat, Y_pred)\n",
    "nmi = normalized_mutual_info_score(Y_hat, Y_pred)\n",
    "print('Acc(NMI) = {:.4f} ({:.4f})'.format(acc, nmi))"
   ],
   "metadata": {
    "collapsed": false,
    "pycharm": {
     "name": "#%%\n"
    }
   }
  },
  {
   "cell_type": "code",
   "execution_count": null,
   "outputs": [],
   "source": [],
   "metadata": {
    "collapsed": false,
    "pycharm": {
     "name": "#%%\n"
    }
   }
  }
 ],
 "metadata": {
  "kernelspec": {
   "display_name": "Python 3 (ipykernel)",
   "language": "python",
   "name": "python3"
  },
  "language_info": {
   "codemirror_mode": {
    "name": "ipython",
    "version": 3
   },
   "file_extension": ".py",
   "mimetype": "text/x-python",
   "name": "python",
   "nbconvert_exporter": "python",
   "pygments_lexer": "ipython3",
   "version": "3.9.12"
  }
 },
 "nbformat": 4,
 "nbformat_minor": 5
}